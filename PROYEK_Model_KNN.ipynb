{
  "nbformat": 4,
  "nbformat_minor": 0,
  "metadata": {
    "kernelspec": {
      "display_name": "Python 3",
      "language": "python",
      "name": "python3"
    },
    "language_info": {
      "codemirror_mode": {
        "name": "ipython",
        "version": 3
      },
      "file_extension": ".py",
      "mimetype": "text/x-python",
      "name": "python",
      "nbconvert_exporter": "python",
      "pygments_lexer": "ipython3",
      "version": "3.8.5"
    },
    "colab": {
      "name": "PROYEK_Model_KNN.ipynb",
      "provenance": [],
      "include_colab_link": true
    }
  },
  "cells": [
    {
      "cell_type": "markdown",
      "metadata": {
        "id": "view-in-github",
        "colab_type": "text"
      },
      "source": [
        "<a href=\"https://colab.research.google.com/github/vivianesilviana/Proyek_Klasifikasi/blob/main/PROYEK_Model_KNN.ipynb\" target=\"_parent\"><img src=\"https://colab.research.google.com/assets/colab-badge.svg\" alt=\"Open In Colab\"/></a>"
      ]
    },
    {
      "cell_type": "markdown",
      "metadata": {
        "id": "Vkc3dRU6c56C"
      },
      "source": [
        "## Model K-Nearest Neighbours\n",
        "\n",
        "### Ide Dasar\n",
        "Mengklasifikasikan sebuah data ke dalam sebuah kelas didasarkan pada tetangga terdekatnya\n",
        "\n",
        "### Algoritma KNN\n",
        "Klasifikasi dengan algoritma KNN dilakukan dengan langkah-langkah berikut:\n",
        "1. Menghitung jarak antara data uji dan masing-masing data latih\n",
        "2. Mengurutkan jarak dari terdekat hingga terjauh\n",
        "3. Mengambil sejumlah k teratas dari vektor jarak(Tetangga)\n",
        "4. Mengambil kelas yang paling sering muncul pada baris yang dipilih\n",
        "5. Memilih kelas dari data prediksi\n",
        "\n",
        "### Kelebihan\n",
        "Fase pelatihan klasifikasi tetangga terdekat K jauh lebih cepat dibandingkan dengan algoritma klasifikasi lainnya. Tidak perlu melatih model untuk generalisasi, itulah sebabnya KNN dikenal sebagai algoritma pembelajaran sederhana dan berbasis instans. KNN dapat berguna dalam kasus data nonlinier. Ini bisa digunakan dengan masalah regresi. Nilai output untuk objek dihitung dengan rata-rata nilai k tetangga terdekat.\n",
        "\n",
        "### Kekurangan\n",
        "Fase pengujian klasifikasi K-terdekat tetangga lebih lambat dan lebih mahal dalam hal waktu dan memori. Ini membutuhkan memori yang besar untuk menyimpan seluruh set data pelatihan untuk prediksi. KNN memerlukan penskalaan data karena KNN menggunakan jarak Euclidean antara dua titik data untuk menemukan tetangga terdekat. Jarak euclidean sensitif terhadap magnitudo. Fitur dengan magnitudo tinggi akan lebih berbobot daripada fitur dengan magnitudo rendah. KNN juga tidak cocok untuk data berdimensi besar.\n",
        "\n",
        "### Meningkatkan KNN\n",
        "Untuk hasil yang lebih baik, sangat disarankan untuk menormalkan data pada skala yang sama. Umumnya, rentang normalisasi dianggap antara 0 dan 1. KNN tidak cocok untuk data berdimensi besar. Dalam kasus seperti itu, dimensi perlu dikurangi untuk meningkatkan kinerja. Selain itu, menangani nilai yang hilang akan membantu kami meningkatkan hasil."
      ]
    },
    {
      "cell_type": "markdown",
      "metadata": {
        "id": "l3VTk5vrc56L"
      },
      "source": [
        "### Implementasi Pada Python dari Dasar"
      ]
    },
    {
      "cell_type": "markdown",
      "metadata": {
        "id": "ixYio6FVc56M"
      },
      "source": [
        "**Fungsi-fungsi pada KNN**"
      ]
    },
    {
      "cell_type": "code",
      "metadata": {
        "id": "alrW8aNyc56M"
      },
      "source": [
        "# Import Module numpy, dataset, dan matplotlib\n",
        "import numpy as np\n",
        "from collections import Counter\n",
        "from sklearn import datasets\n",
        "from sklearn.model_selection import train_test_split\n",
        "import matplotlib.pyplot as plt\n",
        "from matplotlib.colors import ListedColormap\n",
        "cmap = ListedColormap(['#FF0000', '#00FF00', '#0000FF'])"
      ],
      "execution_count": null,
      "outputs": []
    },
    {
      "cell_type": "code",
      "metadata": {
        "id": "4t0jCU4Ac56N"
      },
      "source": [
        "# Membuka data\n",
        "iris = datasets.load_iris()\n",
        "X, y = iris.data, iris.target\n",
        "\n",
        "# Membagi data menjadi data latih dan data uji\n",
        "X_latih, X_uji, y_latih, y_uji = train_test_split(X, y, test_size=0.2, random_state=1234)"
      ],
      "execution_count": null,
      "outputs": []
    },
    {
      "cell_type": "code",
      "metadata": {
        "id": "hwm-Vt_-c56N"
      },
      "source": [
        "# Mendefinisikan jarak Euclidean\n",
        "def jarak_euclidean(x1, x2):\n",
        "        return np.sqrt(np.sum((x1 - x2)**2))"
      ],
      "execution_count": null,
      "outputs": []
    },
    {
      "cell_type": "code",
      "metadata": {
        "id": "ezTRVlG6c56N"
      },
      "source": [
        "# Klasifikasi KNN untuk satu data uji\n",
        "def knn(X_latih, X_uji, y_latih, k):\n",
        "    # Hitung jarak antara x dan semua contoh di set pelatihan\n",
        "    jarak = [jarak_euclidean(X_uji, x_latih) for x_latih in X_latih]\n",
        "    print(jarak)\n",
        "    # Urutkan berdasarkan jarak dan indeks kembalian dari k tetangga pertama\n",
        "    k_idx = np.argsort(jarak)[:k]\n",
        "    print(k_idx)\n",
        "    # Ekstrak label k sampel pelatihan tetangga terdekat\n",
        "    k_tetangga_labels = [y_latih[i] for i in k_idx]  \n",
        "    print(k_tetangga_labels)\n",
        "    # mengembalikan label kelas yang paling umum\n",
        "    label_populer = Counter(k_tetangga_labels).most_common(2)\n",
        "    print(label_populer)\n",
        "    return label_populer[0][0], k_idx"
      ],
      "execution_count": null,
      "outputs": []
    },
    {
      "cell_type": "code",
      "metadata": {
        "id": "9HAlFlzHc56N"
      },
      "source": [
        "# Klasifikasi KNN untuk sebuah vektor data uji\n",
        "def KNN(X_latih, X_uji, y_latih, k):\n",
        "    y_pred=[]\n",
        "    for x in X_uji:\n",
        "        pred, tetangga=knn(X_latih, x, y_latih, k)\n",
        "        y_pred.append(pred)\n",
        "    return np.array(y_pred)"
      ],
      "execution_count": null,
      "outputs": []
    },
    {
      "cell_type": "code",
      "metadata": {
        "id": "XqBc8s71c56O"
      },
      "source": [
        "# Membuat fungsi untuk mengukur akurasi\n",
        "def akurasi(y_asli, y_pred):\n",
        "    akr = np.sum(y_asli == y_pred) / len(y_asli)\n",
        "    return akr*100"
      ],
      "execution_count": null,
      "outputs": []
    },
    {
      "cell_type": "code",
      "metadata": {
        "colab": {
          "base_uri": "https://localhost:8080/"
        },
        "id": "Zar0gpfhde_a",
        "outputId": "5175d648-ada9-4cb0-fe2f-de4ac3b9277d"
      },
      "source": [
        " X_uji[0]"
      ],
      "execution_count": null,
      "outputs": [
        {
          "output_type": "execute_result",
          "data": {
            "text/plain": [
              "array([6.1, 3. , 4.6, 1.4])"
            ]
          },
          "metadata": {
            "tags": []
          },
          "execution_count": 13
        }
      ]
    },
    {
      "cell_type": "code",
      "metadata": {
        "colab": {
          "base_uri": "https://localhost:8080/"
        },
        "id": "dF8JCLxJdg9i",
        "outputId": "b72b9b7c-b280-4ee5-b602-16dd84fbed66"
      },
      "source": [
        "X_latih[0:5]"
      ],
      "execution_count": null,
      "outputs": [
        {
          "output_type": "execute_result",
          "data": {
            "text/plain": [
              "array([[5.1, 2.5, 3. , 1.1],\n",
              "       [6.2, 2.8, 4.8, 1.8],\n",
              "       [5. , 3.5, 1.3, 0.3],\n",
              "       [6.3, 2.8, 5.1, 1.5],\n",
              "       [6.7, 3. , 5. , 1.7]])"
            ]
          },
          "metadata": {
            "tags": []
          },
          "execution_count": 14
        }
      ]
    },
    {
      "cell_type": "code",
      "metadata": {
        "colab": {
          "base_uri": "https://localhost:8080/"
        },
        "id": "vokoyWwndjqk",
        "outputId": "84f878af-81ed-44c7-b03f-549d2af80b44"
      },
      "source": [
        "y_latih[0:5]"
      ],
      "execution_count": null,
      "outputs": [
        {
          "output_type": "execute_result",
          "data": {
            "text/plain": [
              "array([1, 2, 0, 2, 1])"
            ]
          },
          "metadata": {
            "tags": []
          },
          "execution_count": 15
        }
      ]
    },
    {
      "cell_type": "code",
      "metadata": {
        "id": "xNpvQiUZdlim"
      },
      "source": [
        "k=3"
      ],
      "execution_count": null,
      "outputs": []
    },
    {
      "cell_type": "markdown",
      "metadata": {
        "id": "dfbNsb5oc56O"
      },
      "source": [
        "**Prediksi satu data uji**"
      ]
    },
    {
      "cell_type": "code",
      "metadata": {
        "colab": {
          "base_uri": "https://localhost:8080/"
        },
        "id": "Aj8OlRv1c56O",
        "outputId": "f012683a-61c3-496d-b109-978781acb8da"
      },
      "source": [
        "prediksi, tetangga=knn(X_latih, X_uji[0], y_latih, 8)"
      ],
      "execution_count": null,
      "outputs": [
        {
          "output_type": "stream",
          "text": [
            "[1.9748417658131496, 0.5000000000000003, 3.6823905279043934, 0.5830951894845302, 0.7810249675906661, 3.252691193458118, 3.818376618407356, 3.2403703492039293, 4.124318125460256, 1.884144368141677, 3.5972211497209896, 0.8185352771872448, 3.6496575181789312, 1.3076696830622023, 1.8357559750685826, 3.5707142142714243, 1.174734012447073, 1.2369316876852987, 2.37065391822594, 1.5394804318340654, 3.622154055254966, 0.9380831519646865, 2.596150997149434, 0.34641016151377546, 1.9104973174542794, 1.1269427669584642, 0.5196152422706631, 0.8660254037844396, 0.5196152422706631, 3.563705936241092, 3.494281041931229, 2.056696380120314, 0.9643650760992954, 0.9000000000000002, 3.478505426185217, 3.671511950137164, 3.59583091927304, 0.8366600265340758, 1.0816653826391964, 1.0770329614269007, 1.6941074346097422, 0.4690415759823425, 3.640054944640259, 0.9591663046625443, 3.4684290392049246, 2.7349588662354694, 3.5679125549822546, 0.19999999999999973, 0.714142842854285, 3.2726136343907135, 0.7681145747868606, 3.524202037341219, 1.272792206135786, 1.3304134695650074, 0.45825756949558416, 0.4690415759823428, 3.228002478313794, 3.602776706930364, 0.6708203932499368, 0.6244997998398397, 0.7745966692414828, 3.151190251317746, 0.6244997998398405, 1.4966629547095769, 0.529150262212918, 0.4242640687119287, 0.6244997998398403, 3.8923000912057124, 3.6318039594669753, 3.624913792078371, 0.7141428428542843, 0.9899494936611661, 3.355592347112503, 0.824621125123532, 0.5999999999999993, 1.0344080432788607, 0.824621125123532, 0.5830951894845293, 4.14487635521254, 0.7615773105863909, 0.9055385138137416, 3.5566838487557475, 3.475629439396553, 1.3341664064126344, 1.3379088160259647, 1.8920887928424497, 0.6403124237432846, 0.8602325267042631, 3.7536648758246915, 1.2999999999999996, 2.121320343559643, 1.19582607431014, 1.640121946685673, 0.6403124237432851, 3.6905284174491864, 3.5298725189445577, 3.7854986461495397, 3.6482872693909396, 1.4832396974191326, 0.5385164807134502, 1.272792206135786, 3.535533905932737, 3.7054014627297804, 0.7549834435270752, 0.9273618495495708, 0.5000000000000006, 1.2041594578792292, 1.039230484541326, 1.3379088160259656, 1.643167672515499, 2.9698484809835004, 3.3719430600174727, 1.4662878298615187, 3.484250278036869, 3.210918871600464, 1.7406895185529216, 1.0630145812734655, 1.1045361017187258, 3.9012818406262313, 3.737646318206151]\n",
            "[ 47  23  65  54  41  55   1 105]\n",
            "[1, 1, 1, 2, 1, 1, 2, 2]\n",
            "[(1, 5), (2, 3)]\n"
          ],
          "name": "stdout"
        }
      ]
    },
    {
      "cell_type": "code",
      "metadata": {
        "colab": {
          "base_uri": "https://localhost:8080/"
        },
        "id": "BYMwBnBEc56O",
        "outputId": "97f85383-8497-4586-81ad-98afa9bc8bb6"
      },
      "source": [
        "prediksi"
      ],
      "execution_count": null,
      "outputs": [
        {
          "output_type": "execute_result",
          "data": {
            "text/plain": [
              "1"
            ]
          },
          "metadata": {
            "tags": []
          },
          "execution_count": 8
        }
      ]
    },
    {
      "cell_type": "code",
      "metadata": {
        "colab": {
          "base_uri": "https://localhost:8080/"
        },
        "id": "VmTKTncMc56Q",
        "outputId": "86b79d20-a695-4a4e-d7ae-af78c12749bc"
      },
      "source": [
        "print(tetangga)"
      ],
      "execution_count": null,
      "outputs": [
        {
          "output_type": "stream",
          "text": [
            "[86 74 48]\n"
          ],
          "name": "stdout"
        }
      ]
    },
    {
      "cell_type": "markdown",
      "metadata": {
        "id": "LgCbp33qc56R"
      },
      "source": [
        "**Prediksi data uji dalam bentuk vektor**"
      ]
    },
    {
      "cell_type": "code",
      "metadata": {
        "id": "Biqe-xXyc56R"
      },
      "source": [
        "pred=KNN(X_latih, X_uji, y_latih, 3)"
      ],
      "execution_count": null,
      "outputs": []
    },
    {
      "cell_type": "code",
      "metadata": {
        "colab": {
          "base_uri": "https://localhost:8080/"
        },
        "id": "8l0ZXw24c56S",
        "outputId": "9d52914a-d96f-4797-f76b-09a6c8b8f60e"
      },
      "source": [
        "akurasi(y_uji, pred)"
      ],
      "execution_count": null,
      "outputs": [
        {
          "output_type": "execute_result",
          "data": {
            "text/plain": [
              "100.0"
            ]
          },
          "metadata": {
            "tags": []
          },
          "execution_count": 28
        }
      ]
    },
    {
      "cell_type": "code",
      "metadata": {
        "colab": {
          "base_uri": "https://localhost:8080/"
        },
        "id": "T2Gba_wjev_Y",
        "outputId": "a14368b3-222b-4a67-b726-28a0cdaa4b83"
      },
      "source": [
        "y_uji"
      ],
      "execution_count": null,
      "outputs": [
        {
          "output_type": "execute_result",
          "data": {
            "text/plain": [
              "array([1, 1, 2, 0, 1, 0, 0, 0, 1, 2, 1, 0, 2, 1, 0, 1, 2, 0, 2, 1, 1, 1,\n",
              "       1, 1, 2, 0, 2, 1, 2, 0])"
            ]
          },
          "metadata": {
            "tags": []
          },
          "execution_count": 25
        }
      ]
    },
    {
      "cell_type": "code",
      "metadata": {
        "colab": {
          "base_uri": "https://localhost:8080/"
        },
        "id": "MYs6W7mie1b4",
        "outputId": "749a50d1-a2b7-4d73-cfd5-98943ece0308"
      },
      "source": [
        "pred"
      ],
      "execution_count": null,
      "outputs": [
        {
          "output_type": "execute_result",
          "data": {
            "text/plain": [
              "array([1, 1, 2, 0, 1, 0, 0, 0, 1, 2, 1, 0, 2, 1, 0, 1, 2, 0, 2, 1, 1, 1,\n",
              "       1, 1, 2, 0, 2, 1, 2, 0])"
            ]
          },
          "metadata": {
            "tags": []
          },
          "execution_count": 26
        }
      ]
    },
    {
      "cell_type": "markdown",
      "metadata": {
        "id": "cyEGe78vc56S"
      },
      "source": [
        "### Model KNN Menggunakan Scikit Learn"
      ]
    },
    {
      "cell_type": "code",
      "metadata": {
        "id": "7iNwg3lSc56S",
        "outputId": "5fb35552-86f1-47a6-d714-3573c485829a"
      },
      "source": [
        "# Mengimpor model KNN dari Scikit-Learn\n",
        "from sklearn.neighbors import KNeighborsClassifier\n",
        "\n",
        "# Klasifikasi dengan sejumlah K=3 Tetangga Terdekat\n",
        "neigh = KNeighborsClassifier(n_neighbors=3)\n",
        "\n",
        "# Memilih fitur dan label\n",
        "neigh.fit(X_latih, y_latih)\n",
        "\n",
        "# Kelas Hasil Prediksi\n",
        "pred=neigh.predict(X_uji)\n",
        "print(pred[0])\n",
        "\n",
        "# 3 Tetangga Terdekat\n",
        "tetangga=neigh.kneighbors(X_uji)[1]\n",
        "print(tetangga[0])"
      ],
      "execution_count": null,
      "outputs": [
        {
          "output_type": "stream",
          "text": [
            "1\n",
            "[47 23 65]\n"
          ],
          "name": "stdout"
        }
      ]
    },
    {
      "cell_type": "code",
      "metadata": {
        "id": "ckrQZqJKc56T",
        "outputId": "e8d2f3eb-4e15-45fc-acce-b75709c8ac6e"
      },
      "source": [
        "akurasi(y_uji, pred)"
      ],
      "execution_count": null,
      "outputs": [
        {
          "output_type": "execute_result",
          "data": {
            "text/plain": [
              "1.0"
            ]
          },
          "metadata": {
            "tags": []
          },
          "execution_count": 147
        }
      ]
    }
  ]
}