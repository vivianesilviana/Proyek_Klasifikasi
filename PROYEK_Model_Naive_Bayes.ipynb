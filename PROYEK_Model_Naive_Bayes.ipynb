{
  "nbformat": 4,
  "nbformat_minor": 0,
  "metadata": {
    "kernelspec": {
      "display_name": "Python 3",
      "language": "python",
      "name": "python3"
    },
    "language_info": {
      "codemirror_mode": {
        "name": "ipython",
        "version": 3
      },
      "file_extension": ".py",
      "mimetype": "text/x-python",
      "name": "python",
      "nbconvert_exporter": "python",
      "pygments_lexer": "ipython3",
      "version": "3.8.5"
    },
    "colab": {
      "name": "PROYEK Model Naive Bayes.ipynb",
      "provenance": [],
      "include_colab_link": true
    }
  },
  "cells": [
    {
      "cell_type": "markdown",
      "metadata": {
        "id": "view-in-github",
        "colab_type": "text"
      },
      "source": [
        "<a href=\"https://colab.research.google.com/github/vivianesilviana/Proyek_Klasifikasi/blob/main/PROYEK_Model_Naive_Bayes.ipynb\" target=\"_parent\"><img src=\"https://colab.research.google.com/assets/colab-badge.svg\" alt=\"Open In Colab\"/></a>"
      ]
    },
    {
      "cell_type": "markdown",
      "metadata": {
        "id": "xNo2ohotrpbk"
      },
      "source": [
        "## Model Naive Bayes\n",
        "\n",
        "### Ide Dasar\n",
        "Naive Bayes Classifier adalah algoritme Machine Learning yang sangat populer berdasarkan teorema Bayes. Ini adalah algoritma sederhana namun sangat kuat yang bekerja dengan baik dengan kumpulan data besar, seperti data teks yang diproses sebelumnya yang membuat ribuan vektor tergantung pada jumlah kata dalam kamus. Ini bekerja sangat baik dengan proyek data teks seperti analisis data sentimen, berkinerja baik dengan proyek kategorisasi dokumen, dan juga bagus dalam memprediksi data kategorikal dalam proyek seperti klasifikasi spam email.\n",
        "\n",
        "Teorema Bayes menjelaskan probabilitas suatu peristiwa, berdasarkan pengetahuan sebelumnya tentang kondisi yang mungkin terkait dengan peristiwa tersebut.\n",
        "Pertama, mari kita ambil rumus probabilitas bersyarat, dan mencoba menurunkan Teorema Bayes:\n",
        "\n",
        "P(B|A) = P(A∩B)/P(B),\n",
        "\n",
        "di mana probabilitas B diberikan A, yang berarti berapa probabilitas peristiwa B ketika peristiwa A sudah terjadi, sama dengan probabilitas persimpangan A B (artinya probabilitas peristiwa A dan B terjadi) dibagi dengan probabilitas B.\n",
        "\n",
        "atau P (A|B) = P(B∩A)/P(A),\n",
        "\n",
        "di mana probabilitas A diberikan B, yang berarti berapa probabilitas peristiwa A ketika peristiwa B sudah terjadi, sama dengan probabilitas persimpangan B A (artinya probabilitas peristiwa B dan A terjadi) dibagi dengan probabilitas A.\n",
        "Mari kita lihat lebih dekat, kita melihat bahwa P (A∩B) dan P (B∩A) pada dasarnya sama, jadi kita dapat menuliskannya sebagai \n",
        "P(A∩B) = P(B∩A). Karena sama, kita bisa mendapatkan dua rumus dan memindahkan penyebut ke kiri persamaan:\n",
        "\n",
        "P(A∩B) = P(A|B)*P(B), dan P(B∩A) = P(B|A) * P(A) \n",
        "\n",
        "P (A|B) * P(B) = P (B|A) * P(A).\n",
        "Jadi, ketika kita ingin mencari probabilitas A diberikan B kita bisa menulis persamaan kita seperti ini:\n",
        "\n",
        "P(A|B)= P(B|A) * P(A)/P(B), dan ini adalah persamaan dari Teorema Bayes.\n",
        "\n",
        "### Terminologi Dasar\n",
        "Menerapkan Persamaan Teorema Bayes dalam Algoritma\n",
        "Mari kita uraikan persamaan kita dan pahami cara kerjanya:\n",
        "1. P(A|B) adalah probabilitas posterior kelas (target) yang diberikan prediktor (atribut).\n",
        "2. P(B) adalah probabilitas kelas prior.\n",
        "3. P(B|A) adalah kemungkinan yang merupakan probabilitas kelas prediktor yang diberikan.\n",
        "4. P(A) adalah probabilitas prediktor sebelumnya.\n",
        "\n",
        "### Algoritma Naive Bayes\n",
        "Pengklasifikasi Naive Bayes menghitung probabilitas suatu peristiwa dalam langkah-langkah berikut:\n",
        "\n",
        "1. Hitung probabilitas prior untuk label kelas tertentu\n",
        "2. Temukan probabilitas posterior dengan setiap atribut untuk setiap kelas\n",
        "3. Masukkan nilai ini ke dalam Formula Bayes dan hitung probabilitas posterior.\n",
        "4. Lihat kelas mana yang memiliki probabilitas lebih tinggi, mengingat input milik kelas probabilitas yang lebih tinggi.\n",
        "\n",
        "### Kelebihan\n",
        "1. Naive Bayes bukan pendekatan sederhana tetapi dapat melakukan prediksi yang cepat dan akurat.\n",
        "2. Naive Bayes memiliki biaya komputasi yang sangat rendah.\n",
        "3. Naive Bayes dapat bekerja secara efisien pada kumpulan data yang besar.\n",
        "4. Naive Bayes berkinerja baik dalam kasus variabel respons diskrit dibandingkan dengan variabel kontinu.\n",
        "5. Naive Bayes dapat digunakan dengan beberapa masalah prediksi kelas.\n",
        "6. Naive Bayes bekerja dengan baik dalam kasus masalah analitik teks.\n",
        "7. Jika asumsi independensi berlaku, pengklasifikasi Naive Bayes berperforma lebih baik dibandingkan dengan model lain seperti regresi logistik.\n",
        "\n",
        "### Kekurangan\n",
        "1. Asumsi fitur independen. Dalam praktiknya, hampir tidak mungkin model tersebut mendapatkan sekumpulan prediktor yang sepenuhnya independen.\n",
        "2. Jika tidak ada tupel pelatihan dari kelas tertentu, ini menyebabkan probabilitas posterior nol. Dalam hal ini, model tidak dapat membuat prediksi. Masalah ini dikenal sebagai Masalah Probabilitas / Frekuensi Nol."
      ]
    },
    {
      "cell_type": "markdown",
      "metadata": {
        "id": "qg7-HNrirpbs"
      },
      "source": [
        "### Implementasi Pada Python dari Dasar"
      ]
    },
    {
      "cell_type": "code",
      "metadata": {
        "id": "igPNFDfMrpbt"
      },
      "source": [
        "**Fungsi-fungsi pada Naive Bayes**"
      ],
      "execution_count": null,
      "outputs": []
    },
    {
      "cell_type": "code",
      "metadata": {
        "id": "FhtlXlUZrpbu",
        "outputId": "711714e5-80a6-4433-a7a5-30e5331cb1f7"
      },
      "source": [
        "# Mengimpor Library Numpy, dataset, dan matplotlib\n",
        "import numpy as np\n",
        "from sklearn.model_selection import train_test_split\n",
        "from sklearn import datasets\n",
        "import matplotlib.pyplot as plt\n",
        "\n",
        "# Membuat dataset klasifikasi\n",
        "X, y = datasets.make_classification(n_samples=1000, n_features=10, n_classes=2, random_state=123)\n",
        "X_train, X_test, y_train, y_test = train_test_split(X, y, test_size=0.2, random_state=123)"
      ],
      "execution_count": null,
      "outputs": [
        {
          "output_type": "stream",
          "text": [
            "Naive Bayes classification accuracy 0.965\n"
          ],
          "name": "stdout"
        }
      ]
    },
    {
      "cell_type": "code",
      "metadata": {
        "id": "z2RJaSSMrpbv"
      },
      "source": [
        "# Menyusun Fungsi secara step by step\n",
        "def _naive_bayes(x):\n",
        "    posteriors = []\n",
        "    \n",
        "    # hitung probabilitas posterior untuk setiap kelas\n",
        "    for idx, c in enumerate(_classes):\n",
        "        prior = np.log(_priors[idx])\n",
        "        posterior = np.sum(np.log(_pdf(idx, x)))\n",
        "        posterior = prior + posterior\n",
        "        posteriors.append(posterior)\n",
        "            \n",
        "    # menentukan kelas berdasarkan nilai probabilitas posterior tertinggi\n",
        "    return _classes[np.argmax(posteriors)]\n",
        "\n",
        "def Naive_Bayes(X):\n",
        "    n_samples, n_features = X.shape\n",
        "    _classes = np.unique(y)\n",
        "    n_classes = len(_classes)\n",
        "    \n",
        "    # menghitung mean, variansi, dan prior untuk masing-masing kelas\n",
        "    _mean = np.zeros((n_classes, n_features), dtype=np.float64)\n",
        "    _var = np.zeros((n_classes, n_features), dtype=np.float64)\n",
        "    _priors =  np.zeros(n_classes, dtype=np.float64)\n",
        "    \n",
        "    for idx, c in enumerate(_classes):\n",
        "        X_c = X[y==c]\n",
        "        _mean[idx, :] = X_c.mean(axis=0)\n",
        "        _var[idx, :] = X_c.var(axis=0)\n",
        "        _priors[idx] = X_c.shape[0] / float(n_samples)\n",
        "        y_pred = [_naive_bayes(x) for x in X]\n",
        "        \n",
        "    return np.array(y_pred)\n",
        "\n",
        "# Membuat fungsi untuk mengukur akurasi\n",
        "def akurasi(y_asli, y_pred):\n",
        "    akr = np.sum(y_asli == y_pred) / len(y_asli)\n",
        "    return akr\n",
        "\n",
        "# Fungsi untuk menghitung PDF\n",
        "def _pdf(class_idx, x):\n",
        "    mean = _mean[class_idx]\n",
        "    var = _var[class_idx]\n",
        "    numerator = np.exp(- (x-mean)**2 / (2 * var))\n",
        "    denominator = np.sqrt(2 * np.pi * var)\n",
        "    return numerator / denominator"
      ],
      "execution_count": null,
      "outputs": []
    },
    {
      "cell_type": "code",
      "metadata": {
        "id": "7aPGCYO6rpbv"
      },
      "source": [
        "class NaiveBayes:\n",
        "\n",
        "    def fit(self, X, y):\n",
        "        n_samples, n_features = X.shape\n",
        "        self._classes = np.unique(y)\n",
        "        n_classes = len(self._classes)\n",
        "\n",
        "        # menghitung mean, variansi, dan prior untuk masing-masing kelas\n",
        "        self._mean = np.zeros((n_classes, n_features), dtype=np.float64)\n",
        "        self._var = np.zeros((n_classes, n_features), dtype=np.float64)\n",
        "        self._priors =  np.zeros(n_classes, dtype=np.float64)\n",
        "\n",
        "        for idx, c in enumerate(self._classes):\n",
        "            X_c = X[y==c]\n",
        "            self._mean[idx, :] = X_c.mean(axis=0)\n",
        "            self._var[idx, :] = X_c.var(axis=0)\n",
        "            self._priors[idx] = X_c.shape[0] / float(n_samples)\n",
        "\n",
        "    def predict(self, X):\n",
        "        y_pred = [self._predict(x) for x in X]\n",
        "        return np.array(y_pred)\n",
        "\n",
        "    def _predict(self, x):\n",
        "        posteriors = []\n",
        "\n",
        "        # hitung probabilitas posterior untuk setiap kelas\n",
        "        for idx, c in enumerate(self._classes):\n",
        "            prior = np.log(self._priors[idx])\n",
        "            posterior = np.sum(np.log(self._pdf(idx, x)))\n",
        "            posterior = prior + posterior\n",
        "            posteriors.append(posterior)\n",
        "            \n",
        "        # menentukan kelas berdasarkan nilai probabilitas posterior tertinggi\n",
        "        return self._classes[np.argmax(posteriors)]\n",
        "            \n",
        "    # Fungsi untuk menghitung PDF\n",
        "    def _pdf(self, class_idx, x):\n",
        "        mean = self._mean[class_idx]\n",
        "        var = self._var[class_idx]\n",
        "        numerator = np.exp(- (x-mean)**2 / (2 * var))\n",
        "        denominator = np.sqrt(2 * np.pi * var)\n",
        "        return numerator / denominator"
      ],
      "execution_count": null,
      "outputs": []
    },
    {
      "cell_type": "markdown",
      "metadata": {
        "id": "-L0W2C5brpbw"
      },
      "source": [
        "**Prediksi satu data uji**"
      ]
    },
    {
      "cell_type": "code",
      "metadata": {
        "id": "R1bfnnIkrpbw",
        "outputId": "786095ac-2b2d-4257-f023-e30abbc0504c"
      },
      "source": [
        "x=X[0]\n",
        "\n",
        "_naive_bayes(x)"
      ],
      "execution_count": null,
      "outputs": [
        {
          "output_type": "execute_result",
          "data": {
            "text/plain": [
              "1"
            ]
          },
          "metadata": {
            "tags": []
          },
          "execution_count": 45
        }
      ]
    },
    {
      "cell_type": "markdown",
      "metadata": {
        "id": "EYsU83sarpbx"
      },
      "source": [
        "**Prediksi data uji dalam bentuk vektor**"
      ]
    },
    {
      "cell_type": "code",
      "metadata": {
        "scrolled": false,
        "id": "DlEGmQygrpbx",
        "outputId": "46681dd4-29aa-461a-9dbb-a3efd758564c"
      },
      "source": [
        "nb = NaiveBayes()\n",
        "nb.fit(X_train, y_train)\n",
        "prediksi_0 = nb.predict(X_test)\n",
        "\n",
        "print(\"Akurasi Klasifikasi Naive Bayes\", akurasi(y_test, prediksi_0)*100, \"%\")"
      ],
      "execution_count": null,
      "outputs": [
        {
          "output_type": "stream",
          "text": [
            "Akurasi Klasifikasi Naive Bayes 96.5 %\n"
          ],
          "name": "stdout"
        }
      ]
    },
    {
      "cell_type": "markdown",
      "metadata": {
        "id": "hy1-ItQprpbx"
      },
      "source": [
        "### Model Naive Bayes Menggunakan Scikit Learn"
      ]
    },
    {
      "cell_type": "code",
      "metadata": {
        "id": "p80iFgdmrpby",
        "outputId": "1022759f-788d-4c1c-c8b0-7a74c672dabf"
      },
      "source": [
        "from sklearn.naive_bayes import GaussianNB\n",
        "# Mengaktifkan/memanggil/membuat fungsi klasifikasi Naive Bayes\n",
        "modelnb = GaussianNB()\n",
        "\n",
        "# Memasukkan data training pada fungsi klasifikasi Naive Bayes\n",
        "nbtrain = modelnb.fit(X_train, y_train)\n",
        "\n",
        "# Menentukan hasil prediksi dari x_test\n",
        "prediksi_1 = nbtrain.predict(X_test)\n",
        "\n",
        "print(\"Akurasi Klasifikasi Naive Bayes\", akurasi(y_test, prediksi_1)*100, \"%\")"
      ],
      "execution_count": null,
      "outputs": [
        {
          "output_type": "stream",
          "text": [
            "Akurasi Klasifikasi Naive Bayes 96.5 %\n"
          ],
          "name": "stdout"
        }
      ]
    }
  ]
}